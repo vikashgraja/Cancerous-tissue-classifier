{
 "cells": [
  {
   "cell_type": "code",
   "execution_count": 22,
   "id": "59a8f08d",
   "metadata": {},
   "outputs": [],
   "source": [
    "from tensorflow import keras\n",
    "from tensorflow.keras.preprocessing.image import ImageDataGenerator\n",
    "import pandas as pd\n",
    "import os\n",
    "import numpy as np"
   ]
  },
  {
   "cell_type": "code",
   "execution_count": 14,
   "id": "f4d7da80",
   "metadata": {},
   "outputs": [],
   "source": [
    "Model = keras.models.load_model('model')"
   ]
  },
  {
   "cell_type": "code",
   "execution_count": 15,
   "id": "b0d07af3",
   "metadata": {},
   "outputs": [],
   "source": [
    "path='h/'\n",
    "data=pd.DataFrame({'id':os.listdir(path)})"
   ]
  },
  {
   "cell_type": "code",
   "execution_count": 17,
   "id": "e8a13817",
   "metadata": {},
   "outputs": [
    {
     "name": "stdout",
     "output_type": "stream",
     "text": [
      "Found 12 validated image filenames.\n"
     ]
    }
   ],
   "source": [
    "# preparing test data\n",
    "datagen = ImageDataGenerator(rescale=1./255.)\n",
    "\n",
    "predict = datagen.flow_from_dataframe(\n",
    "    dataframe=data,\n",
    "    directory=path,\n",
    "    x_col='id', \n",
    "    y_col=None,\n",
    "    target_size=(64,64),         \n",
    "    batch_size=1,\n",
    "    shuffle=False,\n",
    "    class_mode=None)"
   ]
  },
  {
   "cell_type": "code",
   "execution_count": 33,
   "id": "2ddff210",
   "metadata": {},
   "outputs": [
    {
     "name": "stdout",
     "output_type": "stream",
     "text": [
      "12/12 [==============================] - 0s 4ms/step\n"
     ]
    }
   ],
   "source": [
    "predictions = Model.predict(predict, verbose=1)"
   ]
  },
  {
   "cell_type": "code",
   "execution_count": 34,
   "id": "13b74ceb",
   "metadata": {
    "scrolled": true
   },
   "outputs": [
    {
     "data": {
      "text/plain": [
       "array([4.2663237e-01, 3.3289637e-02, 2.0096645e-01, 2.7591038e-01,\n",
       "       8.8588387e-01, 6.1562002e-02, 3.9093572e-01, 9.9606806e-01,\n",
       "       3.2801423e-02, 5.9681514e-04, 2.7461268e-02, 9.1227844e-02],\n",
       "      dtype=float32)"
      ]
     },
     "execution_count": 34,
     "metadata": {},
     "output_type": "execute_result"
    }
   ],
   "source": [
    "predictions = np.transpose(predictions)[0]\n",
    "predictions"
   ]
  },
  {
   "cell_type": "code",
   "execution_count": 41,
   "id": "c85ed924",
   "metadata": {},
   "outputs": [
    {
     "data": {
      "text/html": [
       "<div>\n",
       "<style scoped>\n",
       "    .dataframe tbody tr th:only-of-type {\n",
       "        vertical-align: middle;\n",
       "    }\n",
       "\n",
       "    .dataframe tbody tr th {\n",
       "        vertical-align: top;\n",
       "    }\n",
       "\n",
       "    .dataframe thead th {\n",
       "        text-align: right;\n",
       "    }\n",
       "</style>\n",
       "<table border=\"1\" class=\"dataframe\">\n",
       "  <thead>\n",
       "    <tr style=\"text-align: right;\">\n",
       "      <th></th>\n",
       "      <th>id</th>\n",
       "      <th>label</th>\n",
       "      <th>%</th>\n",
       "    </tr>\n",
       "  </thead>\n",
       "  <tbody>\n",
       "    <tr>\n",
       "      <th>0</th>\n",
       "      <td>0a0bd016a9f4058f109f3b23ed9363bc11d69107</td>\n",
       "      <td>0</td>\n",
       "      <td>42.66</td>\n",
       "    </tr>\n",
       "    <tr>\n",
       "      <th>1</th>\n",
       "      <td>00a0ad1de2cdf805f02c524a985bca5bce1d1b5f</td>\n",
       "      <td>0</td>\n",
       "      <td>3.33</td>\n",
       "    </tr>\n",
       "    <tr>\n",
       "      <th>2</th>\n",
       "      <td>0a0ce1220f56a48bf14615f80bc4c684244c909d</td>\n",
       "      <td>0</td>\n",
       "      <td>20.10</td>\n",
       "    </tr>\n",
       "    <tr>\n",
       "      <th>3</th>\n",
       "      <td>0a0d1a09e5cf9fcc308ecdc210450aecd204d344</td>\n",
       "      <td>0</td>\n",
       "      <td>27.59</td>\n",
       "    </tr>\n",
       "    <tr>\n",
       "      <th>4</th>\n",
       "      <td>0a0a8bdf1d78af77dcc0b94aef6fb5c2f841a3c0</td>\n",
       "      <td>1</td>\n",
       "      <td>88.59</td>\n",
       "    </tr>\n",
       "    <tr>\n",
       "      <th>5</th>\n",
       "      <td>0a0cb32503229ad36b7c06c817a4528cbc27eb3f</td>\n",
       "      <td>0</td>\n",
       "      <td>6.16</td>\n",
       "    </tr>\n",
       "    <tr>\n",
       "      <th>6</th>\n",
       "      <td>0a0c874029cb7010329b2b9e6e5aef4fc497612c</td>\n",
       "      <td>0</td>\n",
       "      <td>39.09</td>\n",
       "    </tr>\n",
       "    <tr>\n",
       "      <th>7</th>\n",
       "      <td>0a0d21d0131e154566005b3e5b6ad22e2262dfb7</td>\n",
       "      <td>1</td>\n",
       "      <td>99.61</td>\n",
       "    </tr>\n",
       "    <tr>\n",
       "      <th>8</th>\n",
       "      <td>0a0afa793274ea7638849eaf132461d7ff462b97</td>\n",
       "      <td>0</td>\n",
       "      <td>3.28</td>\n",
       "    </tr>\n",
       "    <tr>\n",
       "      <th>9</th>\n",
       "      <td>0a0a2e923bdedb11f270dcd3f11d0f001df98f00</td>\n",
       "      <td>0</td>\n",
       "      <td>0.06</td>\n",
       "    </tr>\n",
       "    <tr>\n",
       "      <th>10</th>\n",
       "      <td>0a0d55114d3c95af3033ed8b9cdbcee5c25489ee</td>\n",
       "      <td>0</td>\n",
       "      <td>2.75</td>\n",
       "    </tr>\n",
       "    <tr>\n",
       "      <th>11</th>\n",
       "      <td>0a0b4604d66cecfe668e26383c22fafb74484eef</td>\n",
       "      <td>0</td>\n",
       "      <td>9.12</td>\n",
       "    </tr>\n",
       "  </tbody>\n",
       "</table>\n",
       "</div>"
      ],
      "text/plain": [
       "                                          id  label      %\n",
       "0   0a0bd016a9f4058f109f3b23ed9363bc11d69107      0  42.66\n",
       "1   00a0ad1de2cdf805f02c524a985bca5bce1d1b5f      0   3.33\n",
       "2   0a0ce1220f56a48bf14615f80bc4c684244c909d      0  20.10\n",
       "3   0a0d1a09e5cf9fcc308ecdc210450aecd204d344      0  27.59\n",
       "4   0a0a8bdf1d78af77dcc0b94aef6fb5c2f841a3c0      1  88.59\n",
       "5   0a0cb32503229ad36b7c06c817a4528cbc27eb3f      0   6.16\n",
       "6   0a0c874029cb7010329b2b9e6e5aef4fc497612c      0  39.09\n",
       "7   0a0d21d0131e154566005b3e5b6ad22e2262dfb7      1  99.61\n",
       "8   0a0afa793274ea7638849eaf132461d7ff462b97      0   3.28\n",
       "9   0a0a2e923bdedb11f270dcd3f11d0f001df98f00      0   0.06\n",
       "10  0a0d55114d3c95af3033ed8b9cdbcee5c25489ee      0   2.75\n",
       "11  0a0b4604d66cecfe668e26383c22fafb74484eef      0   9.12"
      ]
     },
     "execution_count": 41,
     "metadata": {},
     "output_type": "execute_result"
    }
   ],
   "source": [
    "df = pd.DataFrame()\n",
    "df['id'] = data['id'].apply(lambda x: x.split('.')[0])\n",
    "df['label'] = list(map(lambda x: 0 if x < 0.5 else 1, predictions))\n",
    "df['%'] = list(map(lambda x : round(x*100, 2), predictions))\n",
    "df.head(12)"
   ]
  }
 ],
 "metadata": {
  "kernelspec": {
   "display_name": "Python 3 (ipykernel)",
   "language": "python",
   "name": "python3"
  },
  "language_info": {
   "codemirror_mode": {
    "name": "ipython",
    "version": 3
   },
   "file_extension": ".py",
   "mimetype": "text/x-python",
   "name": "python",
   "nbconvert_exporter": "python",
   "pygments_lexer": "ipython3",
   "version": "3.9.13"
  }
 },
 "nbformat": 4,
 "nbformat_minor": 5
}
